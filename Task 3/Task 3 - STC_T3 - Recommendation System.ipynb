{
  "cells": [
    {
      "cell_type": "code",
      "execution_count": 2,
      "metadata": {
        "id": "Eiy5nC-4ZHkf"
      },
      "outputs": [],
      "source": [
        "import pandas as pd"
      ]
    },
    {
      "cell_type": "code",
      "execution_count": 3,
      "metadata": {
        "colab": {
          "base_uri": "https://localhost:8080/",
          "height": 316
        },
        "id": "EyiEi-t5Zle2",
        "outputId": "41fc3e93-5380-4a4f-f7a6-6674da465078"
      },
      "outputs": [],
      "source": [
        "df = pd.read_excel(\"F:\\\\Projects\\\\STC tv - Jul24\\\\Task 3\\\\STC TV Dataset T3.xlsb\")"
      ]
    },
    {
      "cell_type": "code",
      "execution_count": 4,
      "metadata": {
        "colab": {
          "base_uri": "https://localhost:8080/",
          "height": 206
        },
        "id": "SQ2T_33yaafG",
        "outputId": "85873f58-b3b3-44ea-8c88-be93c147257f"
      },
      "outputs": [
        {
          "data": {
            "text/html": [
              "<div>\n",
              "<style scoped>\n",
              "    .dataframe tbody tr th:only-of-type {\n",
              "        vertical-align: middle;\n",
              "    }\n",
              "\n",
              "    .dataframe tbody tr th {\n",
              "        vertical-align: top;\n",
              "    }\n",
              "\n",
              "    .dataframe thead th {\n",
              "        text-align: right;\n",
              "    }\n",
              "</style>\n",
              "<table border=\"1\" class=\"dataframe\">\n",
              "  <thead>\n",
              "    <tr style=\"text-align: right;\">\n",
              "      <th></th>\n",
              "      <th>Unnamed: 0</th>\n",
              "      <th>user_id_maped</th>\n",
              "      <th>program_name</th>\n",
              "      <th>rating</th>\n",
              "      <th>date_</th>\n",
              "      <th>program_genre</th>\n",
              "    </tr>\n",
              "  </thead>\n",
              "  <tbody>\n",
              "    <tr>\n",
              "      <th>0</th>\n",
              "      <td>0</td>\n",
              "      <td>26138</td>\n",
              "      <td>100 treets</td>\n",
              "      <td>1</td>\n",
              "      <td>2017-05-27</td>\n",
              "      <td>Drama</td>\n",
              "    </tr>\n",
              "    <tr>\n",
              "      <th>1</th>\n",
              "      <td>1</td>\n",
              "      <td>7946</td>\n",
              "      <td>Moana</td>\n",
              "      <td>1</td>\n",
              "      <td>2017-05-21</td>\n",
              "      <td>Animation</td>\n",
              "    </tr>\n",
              "    <tr>\n",
              "      <th>2</th>\n",
              "      <td>2</td>\n",
              "      <td>7418</td>\n",
              "      <td>The Mermaid Princess</td>\n",
              "      <td>1</td>\n",
              "      <td>2017-08-10</td>\n",
              "      <td>Animation</td>\n",
              "    </tr>\n",
              "    <tr>\n",
              "      <th>3</th>\n",
              "      <td>3</td>\n",
              "      <td>19307</td>\n",
              "      <td>The Mermaid Princess</td>\n",
              "      <td>2</td>\n",
              "      <td>2017-07-26</td>\n",
              "      <td>Animation</td>\n",
              "    </tr>\n",
              "    <tr>\n",
              "      <th>4</th>\n",
              "      <td>4</td>\n",
              "      <td>15860</td>\n",
              "      <td>Churchill</td>\n",
              "      <td>2</td>\n",
              "      <td>2017-07-07</td>\n",
              "      <td>Biography</td>\n",
              "    </tr>\n",
              "  </tbody>\n",
              "</table>\n",
              "</div>"
            ],
            "text/plain": [
              "   Unnamed: 0  user_id_maped          program_name  rating      date_  \\\n",
              "0           0          26138            100 treets       1 2017-05-27   \n",
              "1           1           7946                 Moana       1 2017-05-21   \n",
              "2           2           7418  The Mermaid Princess       1 2017-08-10   \n",
              "3           3          19307  The Mermaid Princess       2 2017-07-26   \n",
              "4           4          15860             Churchill       2 2017-07-07   \n",
              "\n",
              "  program_genre  \n",
              "0         Drama  \n",
              "1     Animation  \n",
              "2     Animation  \n",
              "3     Animation  \n",
              "4     Biography  "
            ]
          },
          "execution_count": 4,
          "metadata": {},
          "output_type": "execute_result"
        }
      ],
      "source": [
        "data = df\n",
        "data.head()"
      ]
    },
    {
      "cell_type": "code",
      "execution_count": 5,
      "metadata": {
        "colab": {
          "base_uri": "https://localhost:8080/",
          "height": 298
        },
        "collapsed": true,
        "id": "yWyBtx9xalXk",
        "outputId": "ea5b3a25-bf05-4cdc-db4c-e7db418c9d51"
      },
      "outputs": [],
      "source": [
        "data = data.drop(columns=['Unnamed: 0'])"
      ]
    },
    {
      "cell_type": "code",
      "execution_count": 6,
      "metadata": {
        "id": "MN9_zgCua5yL"
      },
      "outputs": [],
      "source": [
        "data.columns = ['id', 'program name', 'rating', 'date', 'genre']"
      ]
    },
    {
      "cell_type": "code",
      "execution_count": 7,
      "metadata": {
        "colab": {
          "base_uri": "https://localhost:8080/"
        },
        "id": "lDpUy8hZadMp",
        "outputId": "02fbe5c7-c902-4162-fdf8-ab1b61848184"
      },
      "outputs": [
        {
          "data": {
            "text/plain": [
              "Index(['id', 'program name', 'rating', 'date', 'genre'], dtype='object')"
            ]
          },
          "execution_count": 7,
          "metadata": {},
          "output_type": "execute_result"
        }
      ],
      "source": [
        "features = data.columns\n",
        "features"
      ]
    },
    {
      "cell_type": "code",
      "execution_count": 8,
      "metadata": {
        "colab": {
          "base_uri": "https://localhost:8080/",
          "height": 206
        },
        "id": "MLcl6fVFagor",
        "outputId": "b5f45830-bc75-40c7-f546-76fa2b4ff8c3"
      },
      "outputs": [
        {
          "data": {
            "text/html": [
              "<div>\n",
              "<style scoped>\n",
              "    .dataframe tbody tr th:only-of-type {\n",
              "        vertical-align: middle;\n",
              "    }\n",
              "\n",
              "    .dataframe tbody tr th {\n",
              "        vertical-align: top;\n",
              "    }\n",
              "\n",
              "    .dataframe thead th {\n",
              "        text-align: right;\n",
              "    }\n",
              "</style>\n",
              "<table border=\"1\" class=\"dataframe\">\n",
              "  <thead>\n",
              "    <tr style=\"text-align: right;\">\n",
              "      <th></th>\n",
              "      <th>id</th>\n",
              "      <th>program name</th>\n",
              "      <th>rating</th>\n",
              "      <th>date</th>\n",
              "      <th>genre</th>\n",
              "    </tr>\n",
              "  </thead>\n",
              "  <tbody>\n",
              "    <tr>\n",
              "      <th>0</th>\n",
              "      <td>26138</td>\n",
              "      <td>100 treets</td>\n",
              "      <td>1</td>\n",
              "      <td>2017-05-27</td>\n",
              "      <td>Drama</td>\n",
              "    </tr>\n",
              "    <tr>\n",
              "      <th>1</th>\n",
              "      <td>7946</td>\n",
              "      <td>Moana</td>\n",
              "      <td>1</td>\n",
              "      <td>2017-05-21</td>\n",
              "      <td>Animation</td>\n",
              "    </tr>\n",
              "    <tr>\n",
              "      <th>2</th>\n",
              "      <td>7418</td>\n",
              "      <td>The Mermaid Princess</td>\n",
              "      <td>1</td>\n",
              "      <td>2017-08-10</td>\n",
              "      <td>Animation</td>\n",
              "    </tr>\n",
              "    <tr>\n",
              "      <th>3</th>\n",
              "      <td>19307</td>\n",
              "      <td>The Mermaid Princess</td>\n",
              "      <td>2</td>\n",
              "      <td>2017-07-26</td>\n",
              "      <td>Animation</td>\n",
              "    </tr>\n",
              "    <tr>\n",
              "      <th>4</th>\n",
              "      <td>15860</td>\n",
              "      <td>Churchill</td>\n",
              "      <td>2</td>\n",
              "      <td>2017-07-07</td>\n",
              "      <td>Biography</td>\n",
              "    </tr>\n",
              "  </tbody>\n",
              "</table>\n",
              "</div>"
            ],
            "text/plain": [
              "      id          program name  rating       date      genre\n",
              "0  26138            100 treets       1 2017-05-27      Drama\n",
              "1   7946                 Moana       1 2017-05-21  Animation\n",
              "2   7418  The Mermaid Princess       1 2017-08-10  Animation\n",
              "3  19307  The Mermaid Princess       2 2017-07-26  Animation\n",
              "4  15860             Churchill       2 2017-07-07  Biography"
            ]
          },
          "execution_count": 8,
          "metadata": {},
          "output_type": "execute_result"
        }
      ],
      "source": [
        "data.head()"
      ]
    },
    {
      "cell_type": "code",
      "execution_count": 9,
      "metadata": {
        "colab": {
          "base_uri": "https://localhost:8080/"
        },
        "id": "uQw3geV2fXHQ",
        "outputId": "01bc000f-18be-4b84-f091-5a0d51c1465e"
      },
      "outputs": [
        {
          "data": {
            "text/plain": [
              "(1048575, 5)"
            ]
          },
          "execution_count": 9,
          "metadata": {},
          "output_type": "execute_result"
        }
      ],
      "source": [
        "data.shape"
      ]
    },
    {
      "cell_type": "code",
      "execution_count": 10,
      "metadata": {
        "colab": {
          "base_uri": "https://localhost:8080/",
          "height": 300
        },
        "id": "QI9pW_nNfx-X",
        "outputId": "85e804d8-5869-40e5-884a-d19406751b3c"
      },
      "outputs": [
        {
          "data": {
            "text/html": [
              "<div>\n",
              "<style scoped>\n",
              "    .dataframe tbody tr th:only-of-type {\n",
              "        vertical-align: middle;\n",
              "    }\n",
              "\n",
              "    .dataframe tbody tr th {\n",
              "        vertical-align: top;\n",
              "    }\n",
              "\n",
              "    .dataframe thead th {\n",
              "        text-align: right;\n",
              "    }\n",
              "</style>\n",
              "<table border=\"1\" class=\"dataframe\">\n",
              "  <thead>\n",
              "    <tr style=\"text-align: right;\">\n",
              "      <th></th>\n",
              "      <th>id</th>\n",
              "      <th>rating</th>\n",
              "      <th>date</th>\n",
              "    </tr>\n",
              "  </thead>\n",
              "  <tbody>\n",
              "    <tr>\n",
              "      <th>count</th>\n",
              "      <td>1.048575e+06</td>\n",
              "      <td>1.048575e+06</td>\n",
              "      <td>1048575</td>\n",
              "    </tr>\n",
              "    <tr>\n",
              "      <th>mean</th>\n",
              "      <td>1.709266e+04</td>\n",
              "      <td>2.497283e+00</td>\n",
              "      <td>2017-10-04 00:23:20.346183936</td>\n",
              "    </tr>\n",
              "    <tr>\n",
              "      <th>min</th>\n",
              "      <td>1.000000e+00</td>\n",
              "      <td>1.000000e+00</td>\n",
              "      <td>2017-03-14 00:00:00</td>\n",
              "    </tr>\n",
              "    <tr>\n",
              "      <th>25%</th>\n",
              "      <td>8.253000e+03</td>\n",
              "      <td>1.000000e+00</td>\n",
              "      <td>2017-06-10 00:00:00</td>\n",
              "    </tr>\n",
              "    <tr>\n",
              "      <th>50%</th>\n",
              "      <td>1.714900e+04</td>\n",
              "      <td>2.000000e+00</td>\n",
              "      <td>2017-10-14 00:00:00</td>\n",
              "    </tr>\n",
              "    <tr>\n",
              "      <th>75%</th>\n",
              "      <td>2.566500e+04</td>\n",
              "      <td>3.000000e+00</td>\n",
              "      <td>2018-01-21 00:00:00</td>\n",
              "    </tr>\n",
              "    <tr>\n",
              "      <th>max</th>\n",
              "      <td>3.428000e+04</td>\n",
              "      <td>4.000000e+00</td>\n",
              "      <td>2018-04-30 00:00:00</td>\n",
              "    </tr>\n",
              "    <tr>\n",
              "      <th>std</th>\n",
              "      <td>1.003513e+04</td>\n",
              "      <td>1.119837e+00</td>\n",
              "      <td>NaN</td>\n",
              "    </tr>\n",
              "  </tbody>\n",
              "</table>\n",
              "</div>"
            ],
            "text/plain": [
              "                 id        rating                           date\n",
              "count  1.048575e+06  1.048575e+06                        1048575\n",
              "mean   1.709266e+04  2.497283e+00  2017-10-04 00:23:20.346183936\n",
              "min    1.000000e+00  1.000000e+00            2017-03-14 00:00:00\n",
              "25%    8.253000e+03  1.000000e+00            2017-06-10 00:00:00\n",
              "50%    1.714900e+04  2.000000e+00            2017-10-14 00:00:00\n",
              "75%    2.566500e+04  3.000000e+00            2018-01-21 00:00:00\n",
              "max    3.428000e+04  4.000000e+00            2018-04-30 00:00:00\n",
              "std    1.003513e+04  1.119837e+00                            NaN"
            ]
          },
          "execution_count": 10,
          "metadata": {},
          "output_type": "execute_result"
        }
      ],
      "source": [
        "data.describe()"
      ]
    },
    {
      "cell_type": "code",
      "execution_count": 11,
      "metadata": {
        "id": "dyvD733bgGTo"
      },
      "outputs": [],
      "source": [
        "data['date'] = pd.to_datetime(data['date'])\n",
        "data['id'] = data['id'].astype(str)"
      ]
    },
    {
      "cell_type": "code",
      "execution_count": 12,
      "metadata": {
        "colab": {
          "base_uri": "https://localhost:8080/",
          "height": 300
        },
        "id": "Ckl7UYvpgPm1",
        "outputId": "c13cb2c6-ee2c-418f-d47c-287e9f3d84db"
      },
      "outputs": [
        {
          "data": {
            "text/html": [
              "<div>\n",
              "<style scoped>\n",
              "    .dataframe tbody tr th:only-of-type {\n",
              "        vertical-align: middle;\n",
              "    }\n",
              "\n",
              "    .dataframe tbody tr th {\n",
              "        vertical-align: top;\n",
              "    }\n",
              "\n",
              "    .dataframe thead th {\n",
              "        text-align: right;\n",
              "    }\n",
              "</style>\n",
              "<table border=\"1\" class=\"dataframe\">\n",
              "  <thead>\n",
              "    <tr style=\"text-align: right;\">\n",
              "      <th></th>\n",
              "      <th>rating</th>\n",
              "      <th>date</th>\n",
              "    </tr>\n",
              "  </thead>\n",
              "  <tbody>\n",
              "    <tr>\n",
              "      <th>count</th>\n",
              "      <td>1.048575e+06</td>\n",
              "      <td>1048575</td>\n",
              "    </tr>\n",
              "    <tr>\n",
              "      <th>mean</th>\n",
              "      <td>2.497283e+00</td>\n",
              "      <td>2017-10-04 00:23:20.346183936</td>\n",
              "    </tr>\n",
              "    <tr>\n",
              "      <th>min</th>\n",
              "      <td>1.000000e+00</td>\n",
              "      <td>2017-03-14 00:00:00</td>\n",
              "    </tr>\n",
              "    <tr>\n",
              "      <th>25%</th>\n",
              "      <td>1.000000e+00</td>\n",
              "      <td>2017-06-10 00:00:00</td>\n",
              "    </tr>\n",
              "    <tr>\n",
              "      <th>50%</th>\n",
              "      <td>2.000000e+00</td>\n",
              "      <td>2017-10-14 00:00:00</td>\n",
              "    </tr>\n",
              "    <tr>\n",
              "      <th>75%</th>\n",
              "      <td>3.000000e+00</td>\n",
              "      <td>2018-01-21 00:00:00</td>\n",
              "    </tr>\n",
              "    <tr>\n",
              "      <th>max</th>\n",
              "      <td>4.000000e+00</td>\n",
              "      <td>2018-04-30 00:00:00</td>\n",
              "    </tr>\n",
              "    <tr>\n",
              "      <th>std</th>\n",
              "      <td>1.119837e+00</td>\n",
              "      <td>NaN</td>\n",
              "    </tr>\n",
              "  </tbody>\n",
              "</table>\n",
              "</div>"
            ],
            "text/plain": [
              "             rating                           date\n",
              "count  1.048575e+06                        1048575\n",
              "mean   2.497283e+00  2017-10-04 00:23:20.346183936\n",
              "min    1.000000e+00            2017-03-14 00:00:00\n",
              "25%    1.000000e+00            2017-06-10 00:00:00\n",
              "50%    2.000000e+00            2017-10-14 00:00:00\n",
              "75%    3.000000e+00            2018-01-21 00:00:00\n",
              "max    4.000000e+00            2018-04-30 00:00:00\n",
              "std    1.119837e+00                            NaN"
            ]
          },
          "execution_count": 12,
          "metadata": {},
          "output_type": "execute_result"
        }
      ],
      "source": [
        "data.describe()"
      ]
    },
    {
      "cell_type": "code",
      "execution_count": 13,
      "metadata": {
        "colab": {
          "base_uri": "https://localhost:8080/"
        },
        "id": "lfo1YV2af-ro",
        "outputId": "3b2df44b-78d2-4002-c05b-e19bb811356a"
      },
      "outputs": [
        {
          "name": "stdout",
          "output_type": "stream",
          "text": [
            "<class 'pandas.core.frame.DataFrame'>\n",
            "RangeIndex: 1048575 entries, 0 to 1048574\n",
            "Data columns (total 5 columns):\n",
            " #   Column        Non-Null Count    Dtype         \n",
            "---  ------        --------------    -----         \n",
            " 0   id            1048575 non-null  object        \n",
            " 1   program name  1048575 non-null  object        \n",
            " 2   rating        1048575 non-null  int64         \n",
            " 3   date          1048575 non-null  datetime64[ns]\n",
            " 4   genre         1048575 non-null  object        \n",
            "dtypes: datetime64[ns](1), int64(1), object(3)\n",
            "memory usage: 40.0+ MB\n"
          ]
        }
      ],
      "source": [
        "data.info()"
      ]
    },
    {
      "cell_type": "code",
      "execution_count": 14,
      "metadata": {
        "colab": {
          "base_uri": "https://localhost:8080/",
          "height": 241
        },
        "id": "KSLxTxY_gA_e",
        "outputId": "1095fcae-6f52-47d8-b51e-117279de9c53"
      },
      "outputs": [
        {
          "data": {
            "text/plain": [
              "id              0\n",
              "program name    0\n",
              "rating          0\n",
              "date            0\n",
              "genre           0\n",
              "dtype: int64"
            ]
          },
          "execution_count": 14,
          "metadata": {},
          "output_type": "execute_result"
        }
      ],
      "source": [
        "data.isnull().sum()"
      ]
    },
    {
      "cell_type": "code",
      "execution_count": 15,
      "metadata": {
        "colab": {
          "base_uri": "https://localhost:8080/"
        },
        "id": "u5oc7vk1bOZM",
        "outputId": "ab12e38b-f722-4527-bbf1-1a94900b0317"
      },
      "outputs": [
        {
          "data": {
            "text/plain": [
              "8013"
            ]
          },
          "execution_count": 15,
          "metadata": {},
          "output_type": "execute_result"
        }
      ],
      "source": [
        "data['program name'].nunique()"
      ]
    },
    {
      "cell_type": "code",
      "execution_count": 16,
      "metadata": {
        "colab": {
          "base_uri": "https://localhost:8080/"
        },
        "id": "EfWnZDOufs2C",
        "outputId": "6bb663d2-4273-4ebf-9c44-775ac7222b16"
      },
      "outputs": [
        {
          "data": {
            "text/plain": [
              "16"
            ]
          },
          "execution_count": 16,
          "metadata": {},
          "output_type": "execute_result"
        }
      ],
      "source": [
        "data['genre'].nunique()"
      ]
    },
    {
      "cell_type": "code",
      "execution_count": 17,
      "metadata": {
        "colab": {
          "base_uri": "https://localhost:8080/"
        },
        "collapsed": true,
        "id": "P38pYm4pwHsc",
        "outputId": "c89d8290-a5eb-4cbf-fd6d-4ff566143f8e"
      },
      "outputs": [
        {
          "name": "stdout",
          "output_type": "stream",
          "text": [
            "Drama\n",
            "Animation\n",
            "Biography\n",
            "Action\n",
            "Comedy\n",
            "Horror\n",
            "NOT_DEFINED_IN_UMS\n",
            "Thriller\n",
            "Documentary\n",
            "Crime\n",
            "Family\n",
            "Romance\n",
            "Sci-Fi\n",
            "Adventure\n",
            "SERIES_NOT_ADDED_UNDER_ANY_GENRE\n",
            "Wrestling\n"
          ]
        }
      ],
      "source": [
        "for genre in data['genre'].unique():\n",
        "  print(genre)"
      ]
    },
    {
      "cell_type": "code",
      "execution_count": 18,
      "metadata": {
        "colab": {
          "base_uri": "https://localhost:8080/"
        },
        "id": "55tRB1T4gvCL",
        "outputId": "95a62212-c0b1-4503-dca4-4ee6d2f68557"
      },
      "outputs": [
        {
          "data": {
            "text/plain": [
              "Index(['id', 'program name', 'rating', 'date', 'genre'], dtype='object')"
            ]
          },
          "execution_count": 18,
          "metadata": {},
          "output_type": "execute_result"
        }
      ],
      "source": [
        "features"
      ]
    },
    {
      "cell_type": "markdown",
      "metadata": {},
      "source": [
        "### EDA"
      ]
    },
    {
      "cell_type": "code",
      "execution_count": 19,
      "metadata": {
        "id": "gFpTmzmvlEAz"
      },
      "outputs": [],
      "source": [
        "data['series'] = 0"
      ]
    },
    {
      "cell_type": "code",
      "execution_count": 20,
      "metadata": {
        "id": "KnuL2zCglLlE"
      },
      "outputs": [],
      "source": [
        "data.loc[data['program name'].str.contains('Ep', na=False), 'series'] = 1"
      ]
    },
    {
      "cell_type": "code",
      "execution_count": 21,
      "metadata": {
        "id": "cqSoIycP0od0"
      },
      "outputs": [],
      "source": [
        "data.loc[data['program name'].str.contains('Epic', na=False), 'series'] = 0"
      ]
    },
    {
      "cell_type": "code",
      "execution_count": 22,
      "metadata": {
        "colab": {
          "base_uri": "https://localhost:8080/",
          "height": 53
        },
        "id": "8yD-PcvclO69",
        "outputId": "8e3f9295-5f59-496a-defe-7ec1723686e4"
      },
      "outputs": [
        {
          "data": {
            "text/html": [
              "<div>\n",
              "<style scoped>\n",
              "    .dataframe tbody tr th:only-of-type {\n",
              "        vertical-align: middle;\n",
              "    }\n",
              "\n",
              "    .dataframe tbody tr th {\n",
              "        vertical-align: top;\n",
              "    }\n",
              "\n",
              "    .dataframe thead th {\n",
              "        text-align: right;\n",
              "    }\n",
              "</style>\n",
              "<table border=\"1\" class=\"dataframe\">\n",
              "  <thead>\n",
              "    <tr style=\"text-align: right;\">\n",
              "      <th></th>\n",
              "      <th>id</th>\n",
              "      <th>program name</th>\n",
              "      <th>rating</th>\n",
              "      <th>date</th>\n",
              "      <th>genre</th>\n",
              "      <th>series</th>\n",
              "    </tr>\n",
              "  </thead>\n",
              "  <tbody>\n",
              "    <tr>\n",
              "      <th>82</th>\n",
              "      <td>30849</td>\n",
              "      <td>Wannous    Ep20</td>\n",
              "      <td>3</td>\n",
              "      <td>2017-12-26</td>\n",
              "      <td>Drama</td>\n",
              "      <td>1</td>\n",
              "    </tr>\n",
              "    <tr>\n",
              "      <th>168</th>\n",
              "      <td>27587</td>\n",
              "      <td>Kalam A-Nas    Ep28</td>\n",
              "      <td>3</td>\n",
              "      <td>2018-01-07</td>\n",
              "      <td>Comedy</td>\n",
              "      <td>1</td>\n",
              "    </tr>\n",
              "    <tr>\n",
              "      <th>189</th>\n",
              "      <td>10865</td>\n",
              "      <td>Doctor Amrad Nesa    Ep2</td>\n",
              "      <td>3</td>\n",
              "      <td>2017-04-21</td>\n",
              "      <td>Drama</td>\n",
              "      <td>1</td>\n",
              "    </tr>\n",
              "    <tr>\n",
              "      <th>235</th>\n",
              "      <td>22245</td>\n",
              "      <td>A-Shaqiqatan    Ep6</td>\n",
              "      <td>4</td>\n",
              "      <td>2018-03-06</td>\n",
              "      <td>Drama</td>\n",
              "      <td>1</td>\n",
              "    </tr>\n",
              "    <tr>\n",
              "      <th>392</th>\n",
              "      <td>22512</td>\n",
              "      <td>A-Sayeda Al Oula    Ep5</td>\n",
              "      <td>2</td>\n",
              "      <td>2018-02-16</td>\n",
              "      <td>Drama</td>\n",
              "      <td>1</td>\n",
              "    </tr>\n",
              "    <tr>\n",
              "      <th>...</th>\n",
              "      <td>...</td>\n",
              "      <td>...</td>\n",
              "      <td>...</td>\n",
              "      <td>...</td>\n",
              "      <td>...</td>\n",
              "      <td>...</td>\n",
              "    </tr>\n",
              "    <tr>\n",
              "      <th>1048518</th>\n",
              "      <td>15467</td>\n",
              "      <td>Taymour    Ep.</td>\n",
              "      <td>2</td>\n",
              "      <td>2017-04-18</td>\n",
              "      <td>Family</td>\n",
              "      <td>1</td>\n",
              "    </tr>\n",
              "    <tr>\n",
              "      <th>1048525</th>\n",
              "      <td>17147</td>\n",
              "      <td>Laqet Rohey    Ep12</td>\n",
              "      <td>4</td>\n",
              "      <td>2017-11-28</td>\n",
              "      <td>Drama</td>\n",
              "      <td>1</td>\n",
              "    </tr>\n",
              "    <tr>\n",
              "      <th>1048543</th>\n",
              "      <td>30605</td>\n",
              "      <td>Sadeeqat Al Omor    Ep13</td>\n",
              "      <td>4</td>\n",
              "      <td>2017-04-03</td>\n",
              "      <td>Drama</td>\n",
              "      <td>1</td>\n",
              "    </tr>\n",
              "    <tr>\n",
              "      <th>1048550</th>\n",
              "      <td>25425</td>\n",
              "      <td>Kalam A-Nas    Ep12</td>\n",
              "      <td>2</td>\n",
              "      <td>2017-12-11</td>\n",
              "      <td>Comedy</td>\n",
              "      <td>1</td>\n",
              "    </tr>\n",
              "    <tr>\n",
              "      <th>1048557</th>\n",
              "      <td>24609</td>\n",
              "      <td>Taymour    Ep.</td>\n",
              "      <td>3</td>\n",
              "      <td>2017-03-15</td>\n",
              "      <td>Family</td>\n",
              "      <td>1</td>\n",
              "    </tr>\n",
              "  </tbody>\n",
              "</table>\n",
              "<p>88585 rows × 6 columns</p>\n",
              "</div>"
            ],
            "text/plain": [
              "            id              program name  rating       date   genre  series\n",
              "82       30849           Wannous    Ep20       3 2017-12-26   Drama       1\n",
              "168      27587       Kalam A-Nas    Ep28       3 2018-01-07  Comedy       1\n",
              "189      10865  Doctor Amrad Nesa    Ep2       3 2017-04-21   Drama       1\n",
              "235      22245       A-Shaqiqatan    Ep6       4 2018-03-06   Drama       1\n",
              "392      22512   A-Sayeda Al Oula    Ep5       2 2018-02-16   Drama       1\n",
              "...        ...                       ...     ...        ...     ...     ...\n",
              "1048518  15467            Taymour    Ep.       2 2017-04-18  Family       1\n",
              "1048525  17147       Laqet Rohey    Ep12       4 2017-11-28   Drama       1\n",
              "1048543  30605  Sadeeqat Al Omor    Ep13       4 2017-04-03   Drama       1\n",
              "1048550  25425       Kalam A-Nas    Ep12       2 2017-12-11  Comedy       1\n",
              "1048557  24609            Taymour    Ep.       3 2017-03-15  Family       1\n",
              "\n",
              "[88585 rows x 6 columns]"
            ]
          },
          "execution_count": 22,
          "metadata": {},
          "output_type": "execute_result"
        }
      ],
      "source": [
        "data[data['series']==1]"
      ]
    },
    {
      "cell_type": "code",
      "execution_count": 23,
      "metadata": {},
      "outputs": [
        {
          "data": {
            "text/plain": [
              "program name\n",
              "The Boss Baby                          24047\n",
              "Pingu                                  17063\n",
              "Trolls                                 13793\n",
              "The Adventures of Petey and Friends     9612\n",
              "Moana                                   8081\n",
              "Name: rating, dtype: int64"
            ]
          },
          "execution_count": 23,
          "metadata": {},
          "output_type": "execute_result"
        }
      ],
      "source": [
        "data.groupby(['program name'])['rating'].count().sort_values(ascending=False).head(5)"
      ]
    },
    {
      "cell_type": "code",
      "execution_count": 24,
      "metadata": {},
      "outputs": [
        {
          "data": {
            "text/html": [
              "<div>\n",
              "<style scoped>\n",
              "    .dataframe tbody tr th:only-of-type {\n",
              "        vertical-align: middle;\n",
              "    }\n",
              "\n",
              "    .dataframe tbody tr th {\n",
              "        vertical-align: top;\n",
              "    }\n",
              "\n",
              "    .dataframe thead tr th {\n",
              "        text-align: left;\n",
              "    }\n",
              "</style>\n",
              "<table border=\"1\" class=\"dataframe\">\n",
              "  <thead>\n",
              "    <tr>\n",
              "      <th></th>\n",
              "      <th>program name</th>\n",
              "      <th>series</th>\n",
              "      <th colspan=\"2\" halign=\"left\">id</th>\n",
              "      <th>rating</th>\n",
              "    </tr>\n",
              "    <tr>\n",
              "      <th></th>\n",
              "      <th></th>\n",
              "      <th></th>\n",
              "      <th>user</th>\n",
              "      <th>total_user</th>\n",
              "      <th>total rating</th>\n",
              "    </tr>\n",
              "  </thead>\n",
              "  <tbody>\n",
              "    <tr>\n",
              "      <th>0</th>\n",
              "      <td>#FollowFriday</td>\n",
              "      <td>0</td>\n",
              "      <td>316</td>\n",
              "      <td>510</td>\n",
              "      <td>910</td>\n",
              "    </tr>\n",
              "    <tr>\n",
              "      <th>1</th>\n",
              "      <td>10 Days in a Madhouse</td>\n",
              "      <td>0</td>\n",
              "      <td>301</td>\n",
              "      <td>553</td>\n",
              "      <td>944</td>\n",
              "    </tr>\n",
              "    <tr>\n",
              "      <th>2</th>\n",
              "      <td>100 treets</td>\n",
              "      <td>0</td>\n",
              "      <td>704</td>\n",
              "      <td>1851</td>\n",
              "      <td>3399</td>\n",
              "    </tr>\n",
              "    <tr>\n",
              "      <th>3</th>\n",
              "      <td>101 Dalmatians</td>\n",
              "      <td>0</td>\n",
              "      <td>85</td>\n",
              "      <td>118</td>\n",
              "      <td>173</td>\n",
              "    </tr>\n",
              "    <tr>\n",
              "      <th>4</th>\n",
              "      <td>102 Dalmatians</td>\n",
              "      <td>0</td>\n",
              "      <td>130</td>\n",
              "      <td>172</td>\n",
              "      <td>268</td>\n",
              "    </tr>\n",
              "    <tr>\n",
              "      <th>...</th>\n",
              "      <td>...</td>\n",
              "      <td>...</td>\n",
              "      <td>...</td>\n",
              "      <td>...</td>\n",
              "      <td>...</td>\n",
              "    </tr>\n",
              "    <tr>\n",
              "      <th>8008</th>\n",
              "      <td>iCarly  iWant A World Record</td>\n",
              "      <td>0</td>\n",
              "      <td>61</td>\n",
              "      <td>172</td>\n",
              "      <td>517</td>\n",
              "    </tr>\n",
              "    <tr>\n",
              "      <th>8009</th>\n",
              "      <td>iCarly  iWant More Viewers</td>\n",
              "      <td>0</td>\n",
              "      <td>76</td>\n",
              "      <td>217</td>\n",
              "      <td>625</td>\n",
              "    </tr>\n",
              "    <tr>\n",
              "      <th>8010</th>\n",
              "      <td>iCarly  iWill Date Freddie</td>\n",
              "      <td>0</td>\n",
              "      <td>61</td>\n",
              "      <td>183</td>\n",
              "      <td>544</td>\n",
              "    </tr>\n",
              "    <tr>\n",
              "      <th>8011</th>\n",
              "      <td>xXx</td>\n",
              "      <td>0</td>\n",
              "      <td>58</td>\n",
              "      <td>94</td>\n",
              "      <td>160</td>\n",
              "    </tr>\n",
              "    <tr>\n",
              "      <th>8012</th>\n",
              "      <td>xXx: Return of Xander Cage</td>\n",
              "      <td>0</td>\n",
              "      <td>402</td>\n",
              "      <td>853</td>\n",
              "      <td>1775</td>\n",
              "    </tr>\n",
              "  </tbody>\n",
              "</table>\n",
              "<p>8013 rows × 5 columns</p>\n",
              "</div>"
            ],
            "text/plain": [
              "                      program name series   id                  rating\n",
              "                                          user total_user total rating\n",
              "0                    #FollowFriday      0  316        510          910\n",
              "1            10 Days in a Madhouse      0  301        553          944\n",
              "2                       100 treets      0  704       1851         3399\n",
              "3                   101 Dalmatians      0   85        118          173\n",
              "4                   102 Dalmatians      0  130        172          268\n",
              "...                            ...    ...  ...        ...          ...\n",
              "8008  iCarly  iWant A World Record      0   61        172          517\n",
              "8009    iCarly  iWant More Viewers      0   76        217          625\n",
              "8010    iCarly  iWill Date Freddie      0   61        183          544\n",
              "8011                           xXx      0   58         94          160\n",
              "8012    xXx: Return of Xander Cage      0  402        853         1775\n",
              "\n",
              "[8013 rows x 5 columns]"
            ]
          },
          "execution_count": 24,
          "metadata": {},
          "output_type": "execute_result"
        }
      ],
      "source": [
        "data.groupby(['program name', 'series']).agg({\n",
        "    'id': [('user', 'nunique'), ('total_user', 'count')],\n",
        "    'rating': [('total rating', 'sum')]\n",
        "}).reset_index()"
      ]
    },
    {
      "cell_type": "code",
      "execution_count": 25,
      "metadata": {
        "id": "CWF3zDhup9u9"
      },
      "outputs": [],
      "source": [
        "def extract_series_name(data):\n",
        "    if data['series'] == 1:\n",
        "        return data['program name'].split('Ep')[0].strip()\n",
        "    else:\n",
        "        return None\n",
        "def extract_movie_name(data):\n",
        "    if data['series'] == 0:\n",
        "        return data['program name']\n",
        "    else: return None"
      ]
    },
    {
      "cell_type": "code",
      "execution_count": 26,
      "metadata": {
        "id": "3uNzvVpsqF4j"
      },
      "outputs": [],
      "source": [
        "data['series name'] = data.apply(extract_series_name, axis=1)"
      ]
    },
    {
      "cell_type": "code",
      "execution_count": 27,
      "metadata": {
        "id": "5IWllnGGr72g"
      },
      "outputs": [],
      "source": [
        "data['movie name'] = data.apply(extract_movie_name, axis=1)"
      ]
    },
    {
      "cell_type": "code",
      "execution_count": 28,
      "metadata": {
        "colab": {
          "base_uri": "https://localhost:8080/"
        },
        "id": "Uo0DPZPlwqYf",
        "outputId": "4af1233f-bb14-407b-a2a5-36916568b29e"
      },
      "outputs": [
        {
          "data": {
            "text/plain": [
              "1048575"
            ]
          },
          "execution_count": 28,
          "metadata": {},
          "output_type": "execute_result"
        }
      ],
      "source": [
        "data['series name'].notnull().count()"
      ]
    },
    {
      "cell_type": "code",
      "execution_count": 29,
      "metadata": {
        "colab": {
          "base_uri": "https://localhost:8080/",
          "height": 423
        },
        "collapsed": true,
        "id": "CKwwpMT4z5dM",
        "outputId": "a5220da6-7316-4e6f-f6e9-572b72b92014"
      },
      "outputs": [
        {
          "data": {
            "text/html": [
              "<div>\n",
              "<style scoped>\n",
              "    .dataframe tbody tr th:only-of-type {\n",
              "        vertical-align: middle;\n",
              "    }\n",
              "\n",
              "    .dataframe tbody tr th {\n",
              "        vertical-align: top;\n",
              "    }\n",
              "\n",
              "    .dataframe thead th {\n",
              "        text-align: right;\n",
              "    }\n",
              "</style>\n",
              "<table border=\"1\" class=\"dataframe\">\n",
              "  <thead>\n",
              "    <tr style=\"text-align: right;\">\n",
              "      <th></th>\n",
              "      <th>id</th>\n",
              "      <th>program name</th>\n",
              "      <th>rating</th>\n",
              "      <th>date</th>\n",
              "      <th>genre</th>\n",
              "      <th>series</th>\n",
              "      <th>series name</th>\n",
              "      <th>movie name</th>\n",
              "    </tr>\n",
              "  </thead>\n",
              "  <tbody>\n",
              "    <tr>\n",
              "      <th>82</th>\n",
              "      <td>30849</td>\n",
              "      <td>Wannous    Ep20</td>\n",
              "      <td>3</td>\n",
              "      <td>2017-12-26</td>\n",
              "      <td>Drama</td>\n",
              "      <td>1</td>\n",
              "      <td>Wannous</td>\n",
              "      <td>None</td>\n",
              "    </tr>\n",
              "    <tr>\n",
              "      <th>168</th>\n",
              "      <td>27587</td>\n",
              "      <td>Kalam A-Nas    Ep28</td>\n",
              "      <td>3</td>\n",
              "      <td>2018-01-07</td>\n",
              "      <td>Comedy</td>\n",
              "      <td>1</td>\n",
              "      <td>Kalam A-Nas</td>\n",
              "      <td>None</td>\n",
              "    </tr>\n",
              "    <tr>\n",
              "      <th>189</th>\n",
              "      <td>10865</td>\n",
              "      <td>Doctor Amrad Nesa    Ep2</td>\n",
              "      <td>3</td>\n",
              "      <td>2017-04-21</td>\n",
              "      <td>Drama</td>\n",
              "      <td>1</td>\n",
              "      <td>Doctor Amrad Nesa</td>\n",
              "      <td>None</td>\n",
              "    </tr>\n",
              "    <tr>\n",
              "      <th>235</th>\n",
              "      <td>22245</td>\n",
              "      <td>A-Shaqiqatan    Ep6</td>\n",
              "      <td>4</td>\n",
              "      <td>2018-03-06</td>\n",
              "      <td>Drama</td>\n",
              "      <td>1</td>\n",
              "      <td>A-Shaqiqatan</td>\n",
              "      <td>None</td>\n",
              "    </tr>\n",
              "    <tr>\n",
              "      <th>392</th>\n",
              "      <td>22512</td>\n",
              "      <td>A-Sayeda Al Oula    Ep5</td>\n",
              "      <td>2</td>\n",
              "      <td>2018-02-16</td>\n",
              "      <td>Drama</td>\n",
              "      <td>1</td>\n",
              "      <td>A-Sayeda Al Oula</td>\n",
              "      <td>None</td>\n",
              "    </tr>\n",
              "    <tr>\n",
              "      <th>...</th>\n",
              "      <td>...</td>\n",
              "      <td>...</td>\n",
              "      <td>...</td>\n",
              "      <td>...</td>\n",
              "      <td>...</td>\n",
              "      <td>...</td>\n",
              "      <td>...</td>\n",
              "      <td>...</td>\n",
              "    </tr>\n",
              "    <tr>\n",
              "      <th>1048518</th>\n",
              "      <td>15467</td>\n",
              "      <td>Taymour    Ep.</td>\n",
              "      <td>2</td>\n",
              "      <td>2017-04-18</td>\n",
              "      <td>Family</td>\n",
              "      <td>1</td>\n",
              "      <td>Taymour</td>\n",
              "      <td>None</td>\n",
              "    </tr>\n",
              "    <tr>\n",
              "      <th>1048525</th>\n",
              "      <td>17147</td>\n",
              "      <td>Laqet Rohey    Ep12</td>\n",
              "      <td>4</td>\n",
              "      <td>2017-11-28</td>\n",
              "      <td>Drama</td>\n",
              "      <td>1</td>\n",
              "      <td>Laqet Rohey</td>\n",
              "      <td>None</td>\n",
              "    </tr>\n",
              "    <tr>\n",
              "      <th>1048543</th>\n",
              "      <td>30605</td>\n",
              "      <td>Sadeeqat Al Omor    Ep13</td>\n",
              "      <td>4</td>\n",
              "      <td>2017-04-03</td>\n",
              "      <td>Drama</td>\n",
              "      <td>1</td>\n",
              "      <td>Sadeeqat Al Omor</td>\n",
              "      <td>None</td>\n",
              "    </tr>\n",
              "    <tr>\n",
              "      <th>1048550</th>\n",
              "      <td>25425</td>\n",
              "      <td>Kalam A-Nas    Ep12</td>\n",
              "      <td>2</td>\n",
              "      <td>2017-12-11</td>\n",
              "      <td>Comedy</td>\n",
              "      <td>1</td>\n",
              "      <td>Kalam A-Nas</td>\n",
              "      <td>None</td>\n",
              "    </tr>\n",
              "    <tr>\n",
              "      <th>1048557</th>\n",
              "      <td>24609</td>\n",
              "      <td>Taymour    Ep.</td>\n",
              "      <td>3</td>\n",
              "      <td>2017-03-15</td>\n",
              "      <td>Family</td>\n",
              "      <td>1</td>\n",
              "      <td>Taymour</td>\n",
              "      <td>None</td>\n",
              "    </tr>\n",
              "  </tbody>\n",
              "</table>\n",
              "<p>88585 rows × 8 columns</p>\n",
              "</div>"
            ],
            "text/plain": [
              "            id              program name  rating       date   genre  series  \\\n",
              "82       30849           Wannous    Ep20       3 2017-12-26   Drama       1   \n",
              "168      27587       Kalam A-Nas    Ep28       3 2018-01-07  Comedy       1   \n",
              "189      10865  Doctor Amrad Nesa    Ep2       3 2017-04-21   Drama       1   \n",
              "235      22245       A-Shaqiqatan    Ep6       4 2018-03-06   Drama       1   \n",
              "392      22512   A-Sayeda Al Oula    Ep5       2 2018-02-16   Drama       1   \n",
              "...        ...                       ...     ...        ...     ...     ...   \n",
              "1048518  15467            Taymour    Ep.       2 2017-04-18  Family       1   \n",
              "1048525  17147       Laqet Rohey    Ep12       4 2017-11-28   Drama       1   \n",
              "1048543  30605  Sadeeqat Al Omor    Ep13       4 2017-04-03   Drama       1   \n",
              "1048550  25425       Kalam A-Nas    Ep12       2 2017-12-11  Comedy       1   \n",
              "1048557  24609            Taymour    Ep.       3 2017-03-15  Family       1   \n",
              "\n",
              "               series name movie name  \n",
              "82                 Wannous       None  \n",
              "168            Kalam A-Nas       None  \n",
              "189      Doctor Amrad Nesa       None  \n",
              "235           A-Shaqiqatan       None  \n",
              "392       A-Sayeda Al Oula       None  \n",
              "...                    ...        ...  \n",
              "1048518            Taymour       None  \n",
              "1048525        Laqet Rohey       None  \n",
              "1048543   Sadeeqat Al Omor       None  \n",
              "1048550        Kalam A-Nas       None  \n",
              "1048557            Taymour       None  \n",
              "\n",
              "[88585 rows x 8 columns]"
            ]
          },
          "execution_count": 29,
          "metadata": {},
          "output_type": "execute_result"
        }
      ],
      "source": [
        "data[data['series']==1]"
      ]
    },
    {
      "cell_type": "code",
      "execution_count": 84,
      "metadata": {
        "colab": {
          "base_uri": "https://localhost:8080/",
          "height": 423
        },
        "id": "ZRxPpeoIsTCy",
        "outputId": "d1b9d13a-c422-47d6-9f3a-de3c864059f0"
      },
      "outputs": [
        {
          "data": {
            "text/html": [
              "<div>\n",
              "<style scoped>\n",
              "    .dataframe tbody tr th:only-of-type {\n",
              "        vertical-align: middle;\n",
              "    }\n",
              "\n",
              "    .dataframe tbody tr th {\n",
              "        vertical-align: top;\n",
              "    }\n",
              "\n",
              "    .dataframe thead th {\n",
              "        text-align: right;\n",
              "    }\n",
              "</style>\n",
              "<table border=\"1\" class=\"dataframe\">\n",
              "  <thead>\n",
              "    <tr style=\"text-align: right;\">\n",
              "      <th></th>\n",
              "      <th>series name</th>\n",
              "      <th>genre</th>\n",
              "      <th>mean</th>\n",
              "      <th>count</th>\n",
              "    </tr>\n",
              "  </thead>\n",
              "  <tbody>\n",
              "    <tr>\n",
              "      <th>0</th>\n",
              "      <td>2 Fil-Isaaf</td>\n",
              "      <td>Comedy</td>\n",
              "      <td>2.740506</td>\n",
              "      <td>474</td>\n",
              "    </tr>\n",
              "    <tr>\n",
              "      <th>1</th>\n",
              "      <td>24 Carat</td>\n",
              "      <td>Drama</td>\n",
              "      <td>3.187259</td>\n",
              "      <td>1036</td>\n",
              "    </tr>\n",
              "    <tr>\n",
              "      <th>2</th>\n",
              "      <td>A tory and a Proverb</td>\n",
              "      <td>Animation</td>\n",
              "      <td>2.148571</td>\n",
              "      <td>175</td>\n",
              "    </tr>\n",
              "    <tr>\n",
              "      <th>3</th>\n",
              "      <td>A-Sayeda Al Oula</td>\n",
              "      <td>Drama</td>\n",
              "      <td>3.200441</td>\n",
              "      <td>1362</td>\n",
              "    </tr>\n",
              "    <tr>\n",
              "      <th>4</th>\n",
              "      <td>A-Shaqiqatan</td>\n",
              "      <td>Drama</td>\n",
              "      <td>3.085132</td>\n",
              "      <td>834</td>\n",
              "    </tr>\n",
              "    <tr>\n",
              "      <th>...</th>\n",
              "      <td>...</td>\n",
              "      <td>...</td>\n",
              "      <td>...</td>\n",
              "      <td>...</td>\n",
              "    </tr>\n",
              "    <tr>\n",
              "      <th>121</th>\n",
              "      <td>Weeds</td>\n",
              "      <td>Comedy</td>\n",
              "      <td>3.301619</td>\n",
              "      <td>494</td>\n",
              "    </tr>\n",
              "    <tr>\n",
              "      <th>122</th>\n",
              "      <td>Welada Min Al Khasira  -</td>\n",
              "      <td>Drama</td>\n",
              "      <td>1.000000</td>\n",
              "      <td>1</td>\n",
              "    </tr>\n",
              "    <tr>\n",
              "      <th>123</th>\n",
              "      <td>Ya Reit</td>\n",
              "      <td>Drama</td>\n",
              "      <td>3.167845</td>\n",
              "      <td>1698</td>\n",
              "    </tr>\n",
              "    <tr>\n",
              "      <th>124</th>\n",
              "      <td>Zakera Mn Waraq</td>\n",
              "      <td>Drama</td>\n",
              "      <td>3.233108</td>\n",
              "      <td>296</td>\n",
              "    </tr>\n",
              "    <tr>\n",
              "      <th>125</th>\n",
              "      <td>Zoo      Zoo</td>\n",
              "      <td>Action</td>\n",
              "      <td>3.333333</td>\n",
              "      <td>69</td>\n",
              "    </tr>\n",
              "  </tbody>\n",
              "</table>\n",
              "<p>126 rows × 4 columns</p>\n",
              "</div>"
            ],
            "text/plain": [
              "                  series name      genre      mean  count\n",
              "0                 2 Fil-Isaaf     Comedy  2.740506    474\n",
              "1                    24 Carat      Drama  3.187259   1036\n",
              "2        A tory and a Proverb  Animation  2.148571    175\n",
              "3            A-Sayeda Al Oula      Drama  3.200441   1362\n",
              "4                A-Shaqiqatan      Drama  3.085132    834\n",
              "..                        ...        ...       ...    ...\n",
              "121                     Weeds     Comedy  3.301619    494\n",
              "122  Welada Min Al Khasira  -      Drama  1.000000      1\n",
              "123                   Ya Reit      Drama  3.167845   1698\n",
              "124           Zakera Mn Waraq      Drama  3.233108    296\n",
              "125              Zoo      Zoo     Action  3.333333     69\n",
              "\n",
              "[126 rows x 4 columns]"
            ]
          },
          "execution_count": 84,
          "metadata": {},
          "output_type": "execute_result"
        }
      ],
      "source": [
        "series_sub = data.groupby(['series name', 'genre'])['rating'].agg(['mean', 'count']).reset_index()\n",
        "\n",
        "series_sub"
      ]
    },
    {
      "cell_type": "code",
      "execution_count": 85,
      "metadata": {
        "colab": {
          "base_uri": "https://localhost:8080/",
          "height": 423
        },
        "id": "z5J04ppnuvjT",
        "outputId": "9cfc3cc5-83bc-4773-8d15-1afa7ced2bd6"
      },
      "outputs": [
        {
          "data": {
            "text/html": [
              "<div>\n",
              "<style scoped>\n",
              "    .dataframe tbody tr th:only-of-type {\n",
              "        vertical-align: middle;\n",
              "    }\n",
              "\n",
              "    .dataframe tbody tr th {\n",
              "        vertical-align: top;\n",
              "    }\n",
              "\n",
              "    .dataframe thead th {\n",
              "        text-align: right;\n",
              "    }\n",
              "</style>\n",
              "<table border=\"1\" class=\"dataframe\">\n",
              "  <thead>\n",
              "    <tr style=\"text-align: right;\">\n",
              "      <th></th>\n",
              "      <th>movie name</th>\n",
              "      <th>genre</th>\n",
              "      <th>mean</th>\n",
              "      <th>count</th>\n",
              "    </tr>\n",
              "  </thead>\n",
              "  <tbody>\n",
              "    <tr>\n",
              "      <th>0</th>\n",
              "      <td>#FollowFriday</td>\n",
              "      <td>Thriller</td>\n",
              "      <td>1.784314</td>\n",
              "      <td>510</td>\n",
              "    </tr>\n",
              "    <tr>\n",
              "      <th>1</th>\n",
              "      <td>10 Days in a Madhouse</td>\n",
              "      <td>Thriller</td>\n",
              "      <td>1.707052</td>\n",
              "      <td>553</td>\n",
              "    </tr>\n",
              "    <tr>\n",
              "      <th>2</th>\n",
              "      <td>100 treets</td>\n",
              "      <td>Drama</td>\n",
              "      <td>1.836305</td>\n",
              "      <td>1851</td>\n",
              "    </tr>\n",
              "    <tr>\n",
              "      <th>3</th>\n",
              "      <td>101 Dalmatians</td>\n",
              "      <td>Family</td>\n",
              "      <td>1.466102</td>\n",
              "      <td>118</td>\n",
              "    </tr>\n",
              "    <tr>\n",
              "      <th>4</th>\n",
              "      <td>102 Dalmatians</td>\n",
              "      <td>Action</td>\n",
              "      <td>1.564356</td>\n",
              "      <td>101</td>\n",
              "    </tr>\n",
              "    <tr>\n",
              "      <th>...</th>\n",
              "      <td>...</td>\n",
              "      <td>...</td>\n",
              "      <td>...</td>\n",
              "      <td>...</td>\n",
              "    </tr>\n",
              "    <tr>\n",
              "      <th>6296</th>\n",
              "      <td>iCarly  iWant A World Record</td>\n",
              "      <td>Comedy</td>\n",
              "      <td>3.005814</td>\n",
              "      <td>172</td>\n",
              "    </tr>\n",
              "    <tr>\n",
              "      <th>6297</th>\n",
              "      <td>iCarly  iWant More Viewers</td>\n",
              "      <td>Comedy</td>\n",
              "      <td>2.880184</td>\n",
              "      <td>217</td>\n",
              "    </tr>\n",
              "    <tr>\n",
              "      <th>6298</th>\n",
              "      <td>iCarly  iWill Date Freddie</td>\n",
              "      <td>Comedy</td>\n",
              "      <td>2.972678</td>\n",
              "      <td>183</td>\n",
              "    </tr>\n",
              "    <tr>\n",
              "      <th>6299</th>\n",
              "      <td>xXx</td>\n",
              "      <td>Action</td>\n",
              "      <td>1.702128</td>\n",
              "      <td>94</td>\n",
              "    </tr>\n",
              "    <tr>\n",
              "      <th>6300</th>\n",
              "      <td>xXx: Return of Xander Cage</td>\n",
              "      <td>Action</td>\n",
              "      <td>2.080891</td>\n",
              "      <td>853</td>\n",
              "    </tr>\n",
              "  </tbody>\n",
              "</table>\n",
              "<p>6301 rows × 4 columns</p>\n",
              "</div>"
            ],
            "text/plain": [
              "                        movie name     genre      mean  count\n",
              "0                    #FollowFriday  Thriller  1.784314    510\n",
              "1            10 Days in a Madhouse  Thriller  1.707052    553\n",
              "2                       100 treets     Drama  1.836305   1851\n",
              "3                   101 Dalmatians    Family  1.466102    118\n",
              "4                   102 Dalmatians    Action  1.564356    101\n",
              "...                            ...       ...       ...    ...\n",
              "6296  iCarly  iWant A World Record    Comedy  3.005814    172\n",
              "6297    iCarly  iWant More Viewers    Comedy  2.880184    217\n",
              "6298    iCarly  iWill Date Freddie    Comedy  2.972678    183\n",
              "6299                           xXx    Action  1.702128     94\n",
              "6300    xXx: Return of Xander Cage    Action  2.080891    853\n",
              "\n",
              "[6301 rows x 4 columns]"
            ]
          },
          "execution_count": 85,
          "metadata": {},
          "output_type": "execute_result"
        }
      ],
      "source": [
        "movies_sub = data.groupby(['movie name', 'genre'])['rating'].agg(['mean', 'count']).reset_index()\n",
        "\n",
        "movies_sub"
      ]
    },
    {
      "cell_type": "code",
      "execution_count": 32,
      "metadata": {},
      "outputs": [
        {
          "data": {
            "text/html": [
              "<div>\n",
              "<style scoped>\n",
              "    .dataframe tbody tr th:only-of-type {\n",
              "        vertical-align: middle;\n",
              "    }\n",
              "\n",
              "    .dataframe tbody tr th {\n",
              "        vertical-align: top;\n",
              "    }\n",
              "\n",
              "    .dataframe thead th {\n",
              "        text-align: right;\n",
              "    }\n",
              "</style>\n",
              "<table border=\"1\" class=\"dataframe\">\n",
              "  <thead>\n",
              "    <tr style=\"text-align: right;\">\n",
              "      <th></th>\n",
              "      <th>program name</th>\n",
              "      <th>mean</th>\n",
              "      <th>count</th>\n",
              "    </tr>\n",
              "  </thead>\n",
              "  <tbody>\n",
              "    <tr>\n",
              "      <th>0</th>\n",
              "      <td>#FollowFriday</td>\n",
              "      <td>1.784314</td>\n",
              "      <td>510</td>\n",
              "    </tr>\n",
              "    <tr>\n",
              "      <th>1</th>\n",
              "      <td>10 Days in a Madhouse</td>\n",
              "      <td>1.707052</td>\n",
              "      <td>553</td>\n",
              "    </tr>\n",
              "    <tr>\n",
              "      <th>2</th>\n",
              "      <td>100 treets</td>\n",
              "      <td>1.836305</td>\n",
              "      <td>1851</td>\n",
              "    </tr>\n",
              "    <tr>\n",
              "      <th>3</th>\n",
              "      <td>101 Dalmatians</td>\n",
              "      <td>1.466102</td>\n",
              "      <td>118</td>\n",
              "    </tr>\n",
              "    <tr>\n",
              "      <th>4</th>\n",
              "      <td>102 Dalmatians</td>\n",
              "      <td>1.558140</td>\n",
              "      <td>172</td>\n",
              "    </tr>\n",
              "    <tr>\n",
              "      <th>...</th>\n",
              "      <td>...</td>\n",
              "      <td>...</td>\n",
              "      <td>...</td>\n",
              "    </tr>\n",
              "    <tr>\n",
              "      <th>8008</th>\n",
              "      <td>iCarly  iWant A World Record</td>\n",
              "      <td>3.005814</td>\n",
              "      <td>172</td>\n",
              "    </tr>\n",
              "    <tr>\n",
              "      <th>8009</th>\n",
              "      <td>iCarly  iWant More Viewers</td>\n",
              "      <td>2.880184</td>\n",
              "      <td>217</td>\n",
              "    </tr>\n",
              "    <tr>\n",
              "      <th>8010</th>\n",
              "      <td>iCarly  iWill Date Freddie</td>\n",
              "      <td>2.972678</td>\n",
              "      <td>183</td>\n",
              "    </tr>\n",
              "    <tr>\n",
              "      <th>8011</th>\n",
              "      <td>xXx</td>\n",
              "      <td>1.702128</td>\n",
              "      <td>94</td>\n",
              "    </tr>\n",
              "    <tr>\n",
              "      <th>8012</th>\n",
              "      <td>xXx: Return of Xander Cage</td>\n",
              "      <td>2.080891</td>\n",
              "      <td>853</td>\n",
              "    </tr>\n",
              "  </tbody>\n",
              "</table>\n",
              "<p>8013 rows × 3 columns</p>\n",
              "</div>"
            ],
            "text/plain": [
              "                      program name      mean  count\n",
              "0                    #FollowFriday  1.784314    510\n",
              "1            10 Days in a Madhouse  1.707052    553\n",
              "2                       100 treets  1.836305   1851\n",
              "3                   101 Dalmatians  1.466102    118\n",
              "4                   102 Dalmatians  1.558140    172\n",
              "...                            ...       ...    ...\n",
              "8008  iCarly  iWant A World Record  3.005814    172\n",
              "8009    iCarly  iWant More Viewers  2.880184    217\n",
              "8010    iCarly  iWill Date Freddie  2.972678    183\n",
              "8011                           xXx  1.702128     94\n",
              "8012    xXx: Return of Xander Cage  2.080891    853\n",
              "\n",
              "[8013 rows x 3 columns]"
            ]
          },
          "execution_count": 32,
          "metadata": {},
          "output_type": "execute_result"
        }
      ],
      "source": [
        "# program_rating = data.groupby(['program name'])['rating'].agg(['mean', 'count']).reset_index()\n",
        "\n",
        "# program_rating"
      ]
    },
    {
      "cell_type": "code",
      "execution_count": 33,
      "metadata": {},
      "outputs": [
        {
          "data": {
            "text/plain": [
              "8013"
            ]
          },
          "execution_count": 33,
          "metadata": {},
          "output_type": "execute_result"
        }
      ],
      "source": [
        "data['program name'].nunique()"
      ]
    },
    {
      "cell_type": "code",
      "execution_count": null,
      "metadata": {},
      "outputs": [],
      "source": []
    },
    {
      "cell_type": "code",
      "execution_count": 34,
      "metadata": {},
      "outputs": [
        {
          "data": {
            "text/plain": [
              "125"
            ]
          },
          "execution_count": 34,
          "metadata": {},
          "output_type": "execute_result"
        }
      ],
      "source": [
        "data['series name'].nunique()"
      ]
    },
    {
      "cell_type": "code",
      "execution_count": 35,
      "metadata": {},
      "outputs": [
        {
          "data": {
            "text/plain": [
              "6285"
            ]
          },
          "execution_count": 35,
          "metadata": {},
          "output_type": "execute_result"
        }
      ],
      "source": [
        "data['movie name'].nunique()"
      ]
    },
    {
      "cell_type": "code",
      "execution_count": 36,
      "metadata": {
        "colab": {
          "base_uri": "https://localhost:8080/"
        },
        "id": "qJCPmzoF20n5",
        "outputId": "a51bbfb7-5ce8-4f19-c7dc-793956b36189"
      },
      "outputs": [
        {
          "data": {
            "text/plain": [
              "1048575"
            ]
          },
          "execution_count": 36,
          "metadata": {},
          "output_type": "execute_result"
        }
      ],
      "source": [
        "data['rating'].count()"
      ]
    },
    {
      "cell_type": "code",
      "execution_count": 37,
      "metadata": {
        "colab": {
          "base_uri": "https://localhost:8080/"
        },
        "id": "VADaAV6p2YBQ",
        "outputId": "5249a4c6-ee12-4ea7-a0ab-4d58b38e6ef5"
      },
      "outputs": [
        {
          "data": {
            "text/plain": [
              "12788"
            ]
          },
          "execution_count": 37,
          "metadata": {},
          "output_type": "execute_result"
        }
      ],
      "source": [
        "sum=6394*2\n",
        "sum"
      ]
    },
    {
      "cell_type": "code",
      "execution_count": 38,
      "metadata": {
        "colab": {
          "base_uri": "https://localhost:8080/"
        },
        "id": "xtrSldmN19lI",
        "outputId": "08e072c8-3e8d-471b-93e2-6d1b3177e06a"
      },
      "outputs": [
        {
          "data": {
            "text/plain": [
              "11578"
            ]
          },
          "execution_count": 38,
          "metadata": {},
          "output_type": "execute_result"
        }
      ],
      "source": [
        "data['id'].nunique()"
      ]
    },
    {
      "cell_type": "code",
      "execution_count": 39,
      "metadata": {
        "colab": {
          "base_uri": "https://localhost:8080/",
          "height": 146
        },
        "id": "c6ulZ2eD3GTY",
        "outputId": "5920af4e-130e-4e74-995c-4ccef92b6f0d"
      },
      "outputs": [],
      "source": [
        "# series_sub['rating'].sum()+movies_sub['rating'].sum()"
      ]
    },
    {
      "cell_type": "code",
      "execution_count": 40,
      "metadata": {
        "colab": {
          "base_uri": "https://localhost:8080/"
        },
        "id": "V1ICyAiWxNRe",
        "outputId": "66d9122c-69bb-45b6-acbc-78d92b31fc4d"
      },
      "outputs": [
        {
          "name": "stdout",
          "output_type": "stream",
          "text": [
            "88585\n"
          ]
        }
      ],
      "source": [
        "print(data['series name'].notnull().sum())"
      ]
    },
    {
      "cell_type": "code",
      "execution_count": 41,
      "metadata": {
        "colab": {
          "base_uri": "https://localhost:8080/"
        },
        "id": "KkiyAf_8xmST",
        "outputId": "0912c683-3cfc-4454-f1a2-55c72101d687"
      },
      "outputs": [
        {
          "name": "stdout",
          "output_type": "stream",
          "text": [
            "959990\n"
          ]
        }
      ],
      "source": [
        "print(data['movie name'].notnull().sum())\n"
      ]
    },
    {
      "attachments": {
        "image.png": {
          "image/png": "[encoded data removed]"
        }
      },
      "cell_type": "markdown",
      "metadata": {},
      "source": [
        "## Demographic Filtering\n",
        "![image.png](attachment:image.png)\n",
        "- v is the number of votes for the movie;\n",
        "- m is the\n",
        " minimum votes required to be listed in the chart;\n",
        "- R is the average rating of the movie; And\n",
        "- C is the mean vote across the whole report"
      ]
    },
    {
      "cell_type": "markdown",
      "metadata": {},
      "source": [
        "### Calculating el avr"
      ]
    },
    {
      "cell_type": "code",
      "execution_count": 42,
      "metadata": {},
      "outputs": [
        {
          "name": "stdout",
          "output_type": "stream",
          "text": [
            "Program avr is: 2.818\n",
            "Movies avr is: 2.743\n",
            "Series avr is: 2.799\n"
          ]
        }
      ],
      "source": [
        "C_program = program_rating['mean'].mean()\n",
        "print(f'Program avr is: {C_program.round(3)}')\n",
        "\n",
        "C_movies = movies_sub['mean'].mean()\n",
        "print(f'Movies avr is: {C_movies.round(3)}')\n",
        "\n",
        "C_series = series_sub['mean'].mean()\n",
        "print(f'Series avr is: {C_series.round(3)}')"
      ]
    },
    {
      "cell_type": "markdown",
      "metadata": {},
      "source": [
        "### Calculating el quantile"
      ]
    },
    {
      "cell_type": "code",
      "execution_count": 43,
      "metadata": {},
      "outputs": [
        {
          "name": "stdout",
          "output_type": "stream",
          "text": [
            "Programs quantile is: 252.0\n",
            "Movies quantile is: 297.6\n",
            "Series quantile is: 1830.4\n"
          ]
        }
      ],
      "source": [
        "m_program = program_rating['count'].quantile(0.9)\n",
        "print(f'Programs quantile is: {m_program.round(3)}')\n",
        "\n",
        "m_movies = movies_sub['count'].quantile(0.9)\n",
        "print(f'Movies quantile is: {m_movies.round(3)}')\n",
        "\n",
        "m_series = series_sub['count'].quantile(0.9)\n",
        "print(f'Series quantile is: {m_series.round(3)}')"
      ]
    },
    {
      "cell_type": "markdown",
      "metadata": {},
      "source": [
        "### Qualified: programs, movies and series"
      ]
    },
    {
      "cell_type": "code",
      "execution_count": 44,
      "metadata": {},
      "outputs": [
        {
          "name": "stdout",
          "output_type": "stream",
          "text": [
            "qualified programs shape: (804, 3)\n",
            "qualified movies shape: (629, 3)\n",
            "qualified series shape: (13, 3)\n"
          ]
        }
      ],
      "source": [
        "# q_program = program_rating[program_rating['count']>=m_program]\n",
        "# print(f'qualified programs shape: {q_program.shape}')\n",
        "q_movies = movies_sub[movies_sub['count']>=m_movies]\n",
        "print(f'qualified movies shape: {q_movies.shape}')\n",
        "q_series = series_sub[series_sub['count']>=m_series]\n",
        "print(f'qualified series shape: {q_series.shape}')"
      ]
    },
    {
      "cell_type": "markdown",
      "metadata": {},
      "source": [
        "### Appling the formula based on IMDB"
      ]
    },
    {
      "cell_type": "code",
      "execution_count": 45,
      "metadata": {},
      "outputs": [],
      "source": [
        "# def weighted_rating_program(x=program_rating, m=m_program, C=C_program):\n",
        "#     v = x['count']\n",
        "#     R = x['mean']\n",
        "#     return (v/(v+m) * R) + (m/(m+v) * C)"
      ]
    },
    {
      "cell_type": "code",
      "execution_count": 46,
      "metadata": {},
      "outputs": [],
      "source": [
        "def weighted_rating_movies(x=movies_sub, m=m_movies, C=C_movies):\n",
        "    v = x['count']\n",
        "    R = x['mean']\n",
        "    return (v/(v+m) * R) + (m/(m+v) * C)"
      ]
    },
    {
      "cell_type": "code",
      "execution_count": 47,
      "metadata": {},
      "outputs": [],
      "source": [
        "def weighted_rating_series(x=series_sub, m=m_series, C=C_series):\n",
        "    v = x['count']\n",
        "    R = x['mean']\n",
        "    return (v/(v+m) * R) + (m/(m+v) * C)"
      ]
    },
    {
      "cell_type": "code",
      "execution_count": 48,
      "metadata": {},
      "outputs": [
        {
          "name": "stderr",
          "output_type": "stream",
          "text": [
            "C:\\Users\\Eldawlia\\AppData\\Local\\Temp\\ipykernel_21008\\2015516996.py:2: SettingWithCopyWarning: \n",
            "A value is trying to be set on a copy of a slice from a DataFrame.\n",
            "Try using .loc[row_indexer,col_indexer] = value instead\n",
            "\n",
            "See the caveats in the documentation: https://pandas.pydata.org/pandas-docs/stable/user_guide/indexing.html#returning-a-view-versus-a-copy\n",
            "  q_program['score'] = q_program.apply(weighted_rating_program, axis=1)\n",
            "C:\\Users\\Eldawlia\\AppData\\Local\\Temp\\ipykernel_21008\\2015516996.py:3: SettingWithCopyWarning: \n",
            "A value is trying to be set on a copy of a slice from a DataFrame.\n",
            "Try using .loc[row_indexer,col_indexer] = value instead\n",
            "\n",
            "See the caveats in the documentation: https://pandas.pydata.org/pandas-docs/stable/user_guide/indexing.html#returning-a-view-versus-a-copy\n",
            "  q_movies['score'] = q_movies.apply(weighted_rating_movies, axis=1)\n",
            "C:\\Users\\Eldawlia\\AppData\\Local\\Temp\\ipykernel_21008\\2015516996.py:4: SettingWithCopyWarning: \n",
            "A value is trying to be set on a copy of a slice from a DataFrame.\n",
            "Try using .loc[row_indexer,col_indexer] = value instead\n",
            "\n",
            "See the caveats in the documentation: https://pandas.pydata.org/pandas-docs/stable/user_guide/indexing.html#returning-a-view-versus-a-copy\n",
            "  q_series['score'] = q_series.apply(weighted_rating_series, axis=1)\n"
          ]
        }
      ],
      "source": [
        "# Define a new feature 'score' and calculate its value with `weighted_rating()`\n",
        "# q_program['score'] = q_program.apply(weighted_rating_program, axis=1)\n",
        "q_movies['score'] = q_movies.apply(weighted_rating_movies, axis=1)\n",
        "q_series['score'] = q_series.apply(weighted_rating_series, axis=1)"
      ]
    },
    {
      "cell_type": "code",
      "execution_count": 49,
      "metadata": {},
      "outputs": [
        {
          "data": {
            "text/html": [
              "<div>\n",
              "<style scoped>\n",
              "    .dataframe tbody tr th:only-of-type {\n",
              "        vertical-align: middle;\n",
              "    }\n",
              "\n",
              "    .dataframe tbody tr th {\n",
              "        vertical-align: top;\n",
              "    }\n",
              "\n",
              "    .dataframe thead th {\n",
              "        text-align: right;\n",
              "    }\n",
              "</style>\n",
              "<table border=\"1\" class=\"dataframe\">\n",
              "  <thead>\n",
              "    <tr style=\"text-align: right;\">\n",
              "      <th></th>\n",
              "      <th>program name</th>\n",
              "      <th>mean</th>\n",
              "      <th>count</th>\n",
              "      <th>score</th>\n",
              "    </tr>\n",
              "  </thead>\n",
              "  <tbody>\n",
              "    <tr>\n",
              "      <th>0</th>\n",
              "      <td>#FollowFriday</td>\n",
              "      <td>1.784314</td>\n",
              "      <td>510</td>\n",
              "      <td>2.126045</td>\n",
              "    </tr>\n",
              "    <tr>\n",
              "      <th>1</th>\n",
              "      <td>10 Days in a Madhouse</td>\n",
              "      <td>1.707052</td>\n",
              "      <td>553</td>\n",
              "      <td>2.054716</td>\n",
              "    </tr>\n",
              "    <tr>\n",
              "      <th>2</th>\n",
              "      <td>100 treets</td>\n",
              "      <td>1.836305</td>\n",
              "      <td>1851</td>\n",
              "      <td>1.953897</td>\n",
              "    </tr>\n",
              "    <tr>\n",
              "      <th>5</th>\n",
              "      <td>11.6</td>\n",
              "      <td>2.018470</td>\n",
              "      <td>379</td>\n",
              "      <td>2.337632</td>\n",
              "    </tr>\n",
              "    <tr>\n",
              "      <th>31</th>\n",
              "      <td>12 Monkeys  plinter</td>\n",
              "      <td>2.577703</td>\n",
              "      <td>296</td>\n",
              "      <td>2.688040</td>\n",
              "    </tr>\n",
              "  </tbody>\n",
              "</table>\n",
              "</div>"
            ],
            "text/plain": [
              "             program name      mean  count     score\n",
              "0           #FollowFriday  1.784314    510  2.126045\n",
              "1   10 Days in a Madhouse  1.707052    553  2.054716\n",
              "2              100 treets  1.836305   1851  1.953897\n",
              "5                    11.6  2.018470    379  2.337632\n",
              "31    12 Monkeys  plinter  2.577703    296  2.688040"
            ]
          },
          "execution_count": 49,
          "metadata": {},
          "output_type": "execute_result"
        }
      ],
      "source": [
        "q_program.head()"
      ]
    },
    {
      "cell_type": "markdown",
      "metadata": {},
      "source": [
        "### Sort by the calculating score above!!\n",
        "For each: program, movie and series"
      ]
    },
    {
      "cell_type": "code",
      "execution_count": 50,
      "metadata": {},
      "outputs": [
        {
          "data": {
            "text/html": [
              "<div>\n",
              "<style scoped>\n",
              "    .dataframe tbody tr th:only-of-type {\n",
              "        vertical-align: middle;\n",
              "    }\n",
              "\n",
              "    .dataframe tbody tr th {\n",
              "        vertical-align: top;\n",
              "    }\n",
              "\n",
              "    .dataframe thead th {\n",
              "        text-align: right;\n",
              "    }\n",
              "</style>\n",
              "<table border=\"1\" class=\"dataframe\">\n",
              "  <thead>\n",
              "    <tr style=\"text-align: right;\">\n",
              "      <th></th>\n",
              "      <th>program name</th>\n",
              "      <th>mean</th>\n",
              "      <th>count</th>\n",
              "      <th>score</th>\n",
              "    </tr>\n",
              "  </thead>\n",
              "  <tbody>\n",
              "    <tr>\n",
              "      <th>5288</th>\n",
              "      <td>PAW Patrol  Pups ave A chool Day</td>\n",
              "      <td>3.610630</td>\n",
              "      <td>809</td>\n",
              "      <td>3.422287</td>\n",
              "    </tr>\n",
              "    <tr>\n",
              "      <th>5275</th>\n",
              "      <td>PAW Patrol  Pups And The Beanstalk</td>\n",
              "      <td>3.600000</td>\n",
              "      <td>810</td>\n",
              "      <td>3.414356</td>\n",
              "    </tr>\n",
              "    <tr>\n",
              "      <th>5295</th>\n",
              "      <td>PAW Patrol  Pups ave The Easter Egg Hunt</td>\n",
              "      <td>3.591687</td>\n",
              "      <td>818</td>\n",
              "      <td>3.409389</td>\n",
              "    </tr>\n",
              "    <tr>\n",
              "      <th>5281</th>\n",
              "      <td>PAW Patrol  Pups Go All Monkey / Pups ave A Hoot</td>\n",
              "      <td>3.595449</td>\n",
              "      <td>791</td>\n",
              "      <td>3.407523</td>\n",
              "    </tr>\n",
              "    <tr>\n",
              "      <th>5278</th>\n",
              "      <td>PAW Patrol  Pups And The Lighthouse Boogie</td>\n",
              "      <td>3.596129</td>\n",
              "      <td>775</td>\n",
              "      <td>3.405108</td>\n",
              "    </tr>\n",
              "  </tbody>\n",
              "</table>\n",
              "</div>"
            ],
            "text/plain": [
              "                                          program name      mean  count  \\\n",
              "5288                  PAW Patrol  Pups ave A chool Day  3.610630    809   \n",
              "5275                PAW Patrol  Pups And The Beanstalk  3.600000    810   \n",
              "5295          PAW Patrol  Pups ave The Easter Egg Hunt  3.591687    818   \n",
              "5281  PAW Patrol  Pups Go All Monkey / Pups ave A Hoot  3.595449    791   \n",
              "5278        PAW Patrol  Pups And The Lighthouse Boogie  3.596129    775   \n",
              "\n",
              "         score  \n",
              "5288  3.422287  \n",
              "5275  3.414356  \n",
              "5295  3.409389  \n",
              "5281  3.407523  \n",
              "5278  3.405108  "
            ]
          },
          "execution_count": 50,
          "metadata": {},
          "output_type": "execute_result"
        }
      ],
      "source": [
        "# Program\n",
        "# q_program = q_program.sort_values('score', ascending=False)\n",
        "\n",
        "# Print top 15\n",
        "# q_program.head()"
      ]
    },
    {
      "cell_type": "code",
      "execution_count": 51,
      "metadata": {},
      "outputs": [
        {
          "data": {
            "text/html": [
              "<div>\n",
              "<style scoped>\n",
              "    .dataframe tbody tr th:only-of-type {\n",
              "        vertical-align: middle;\n",
              "    }\n",
              "\n",
              "    .dataframe tbody tr th {\n",
              "        vertical-align: top;\n",
              "    }\n",
              "\n",
              "    .dataframe thead th {\n",
              "        text-align: right;\n",
              "    }\n",
              "</style>\n",
              "<table border=\"1\" class=\"dataframe\">\n",
              "  <thead>\n",
              "    <tr style=\"text-align: right;\">\n",
              "      <th></th>\n",
              "      <th>movie name</th>\n",
              "      <th>mean</th>\n",
              "      <th>count</th>\n",
              "      <th>score</th>\n",
              "    </tr>\n",
              "  </thead>\n",
              "  <tbody>\n",
              "    <tr>\n",
              "      <th>4005</th>\n",
              "      <td>PAW Patrol  Pups ave A chool Day</td>\n",
              "      <td>3.610630</td>\n",
              "      <td>809</td>\n",
              "      <td>3.377369</td>\n",
              "    </tr>\n",
              "    <tr>\n",
              "      <th>3992</th>\n",
              "      <td>PAW Patrol  Pups And The Beanstalk</td>\n",
              "      <td>3.600000</td>\n",
              "      <td>810</td>\n",
              "      <td>3.369805</td>\n",
              "    </tr>\n",
              "    <tr>\n",
              "      <th>4012</th>\n",
              "      <td>PAW Patrol  Pups ave The Easter Egg Hunt</td>\n",
              "      <td>3.591687</td>\n",
              "      <td>818</td>\n",
              "      <td>3.365360</td>\n",
              "    </tr>\n",
              "    <tr>\n",
              "      <th>3998</th>\n",
              "      <td>PAW Patrol  Pups Go All Monkey / Pups ave A Hoot</td>\n",
              "      <td>3.595449</td>\n",
              "      <td>791</td>\n",
              "      <td>3.362480</td>\n",
              "    </tr>\n",
              "    <tr>\n",
              "      <th>3995</th>\n",
              "      <td>PAW Patrol  Pups And The Lighthouse Boogie</td>\n",
              "      <td>3.596129</td>\n",
              "      <td>775</td>\n",
              "      <td>3.359497</td>\n",
              "    </tr>\n",
              "  </tbody>\n",
              "</table>\n",
              "</div>"
            ],
            "text/plain": [
              "                                            movie name      mean  count  \\\n",
              "4005                  PAW Patrol  Pups ave A chool Day  3.610630    809   \n",
              "3992                PAW Patrol  Pups And The Beanstalk  3.600000    810   \n",
              "4012          PAW Patrol  Pups ave The Easter Egg Hunt  3.591687    818   \n",
              "3998  PAW Patrol  Pups Go All Monkey / Pups ave A Hoot  3.595449    791   \n",
              "3995        PAW Patrol  Pups And The Lighthouse Boogie  3.596129    775   \n",
              "\n",
              "         score  \n",
              "4005  3.377369  \n",
              "3992  3.369805  \n",
              "4012  3.365360  \n",
              "3998  3.362480  \n",
              "3995  3.359497  "
            ]
          },
          "execution_count": 51,
          "metadata": {},
          "output_type": "execute_result"
        }
      ],
      "source": [
        "# Movies\n",
        "q_movies = q_movies.sort_values('score', ascending=False)\n",
        "\n",
        "# Print top 15\n",
        "q_movies.head()"
      ]
    },
    {
      "cell_type": "code",
      "execution_count": 52,
      "metadata": {},
      "outputs": [
        {
          "data": {
            "text/html": [
              "<div>\n",
              "<style scoped>\n",
              "    .dataframe tbody tr th:only-of-type {\n",
              "        vertical-align: middle;\n",
              "    }\n",
              "\n",
              "    .dataframe tbody tr th {\n",
              "        vertical-align: top;\n",
              "    }\n",
              "\n",
              "    .dataframe thead th {\n",
              "        text-align: right;\n",
              "    }\n",
              "</style>\n",
              "<table border=\"1\" class=\"dataframe\">\n",
              "  <thead>\n",
              "    <tr style=\"text-align: right;\">\n",
              "      <th></th>\n",
              "      <th>series name</th>\n",
              "      <th>mean</th>\n",
              "      <th>count</th>\n",
              "      <th>score</th>\n",
              "    </tr>\n",
              "  </thead>\n",
              "  <tbody>\n",
              "    <tr>\n",
              "      <th>97</th>\n",
              "      <td>Sadeeqat Al Omor</td>\n",
              "      <td>3.205067</td>\n",
              "      <td>4579</td>\n",
              "      <td>3.089066</td>\n",
              "    </tr>\n",
              "    <tr>\n",
              "      <th>63</th>\n",
              "      <td>Hal Manayer</td>\n",
              "      <td>3.166164</td>\n",
              "      <td>2654</td>\n",
              "      <td>3.016248</td>\n",
              "    </tr>\n",
              "    <tr>\n",
              "      <th>57</th>\n",
              "      <td>Ezai E-Sehha</td>\n",
              "      <td>3.181818</td>\n",
              "      <td>1870</td>\n",
              "      <td>2.992396</td>\n",
              "    </tr>\n",
              "    <tr>\n",
              "      <th>77</th>\n",
              "      <td>Laqet Rohey</td>\n",
              "      <td>3.062472</td>\n",
              "      <td>2209</td>\n",
              "      <td>2.943027</td>\n",
              "    </tr>\n",
              "    <tr>\n",
              "      <th>90</th>\n",
              "      <td>Nan and Lili</td>\n",
              "      <td>2.928146</td>\n",
              "      <td>5038</td>\n",
              "      <td>2.893696</td>\n",
              "    </tr>\n",
              "  </tbody>\n",
              "</table>\n",
              "</div>"
            ],
            "text/plain": [
              "         series name      mean  count     score\n",
              "97  Sadeeqat Al Omor  3.205067   4579  3.089066\n",
              "63       Hal Manayer  3.166164   2654  3.016248\n",
              "57      Ezai E-Sehha  3.181818   1870  2.992396\n",
              "77       Laqet Rohey  3.062472   2209  2.943027\n",
              "90      Nan and Lili  2.928146   5038  2.893696"
            ]
          },
          "execution_count": 52,
          "metadata": {},
          "output_type": "execute_result"
        }
      ],
      "source": [
        "# Series\n",
        "q_series = q_series.sort_values('score', ascending=False)\n",
        "\n",
        "# Print top 15\n",
        "q_series.head()"
      ]
    },
    {
      "attachments": {
        "image.png": {
          "image/png": "[encoded data removed]"
        }
      },
      "cell_type": "markdown",
      "metadata": {},
      "source": [
        "## Content Based Filtering\n",
        "![image.png](attachment:image.png)"
      ]
    },
    {
      "cell_type": "code",
      "execution_count": 53,
      "metadata": {},
      "outputs": [
        {
          "name": "stdout",
          "output_type": "stream",
          "text": [
            "Drama\n",
            "Animation\n",
            "Biography\n",
            "Action\n",
            "Comedy\n",
            "Horror\n",
            "NOT_DEFINED_IN_UMS\n",
            "Thriller\n",
            "Documentary\n",
            "Crime\n",
            "Family\n",
            "Romance\n",
            "Sci-Fi\n",
            "Adventure\n",
            "SERIES_NOT_ADDED_UNDER_ANY_GENRE\n",
            "Wrestling\n"
          ]
        }
      ],
      "source": [
        "for genre in data['genre'].unique():\n",
        "  print(genre)"
      ]
    },
    {
      "cell_type": "code",
      "execution_count": 54,
      "metadata": {},
      "outputs": [
        {
          "data": {
            "text/plain": [
              "Index(['id', 'program name', 'rating', 'date', 'genre'], dtype='object')"
            ]
          },
          "execution_count": 54,
          "metadata": {},
          "output_type": "execute_result"
        }
      ],
      "source": [
        "features"
      ]
    },
    {
      "cell_type": "code",
      "execution_count": 55,
      "metadata": {},
      "outputs": [
        {
          "data": {
            "text/plain": [
              "0              100 treets\n",
              "1                   Moana\n",
              "2    The Mermaid Princess\n",
              "3    The Mermaid Princess\n",
              "4               Churchill\n",
              "Name: program name, dtype: object"
            ]
          },
          "execution_count": 55,
          "metadata": {},
          "output_type": "execute_result"
        }
      ],
      "source": [
        "data['program name'].head()"
      ]
    },
    {
      "cell_type": "markdown",
      "metadata": {},
      "source": [
        "### Not important due to lack of 'overview' column\n",
        "###### If there was an overview column, we'd used TF-IDF matrix. But, unfortunately, we don't have it. So, the following code is not considered. "
      ]
    },
    {
      "cell_type": "code",
      "execution_count": 58,
      "metadata": {},
      "outputs": [],
      "source": [
        "#Import TfIdfVectorizer from scikit-learn\n",
        "from sklearn.feature_extraction.text import TfidfVectorizer\n",
        "\n",
        "#Define a TF-IDF Vectorizer Object. Remove all english stop words such as 'the', 'a'\n",
        "tfidf = TfidfVectorizer(stop_words='english')"
      ]
    },
    {
      "cell_type": "code",
      "execution_count": 59,
      "metadata": {},
      "outputs": [
        {
          "data": {
            "text/plain": [
              "(6301, 16)"
            ]
          },
          "execution_count": 59,
          "metadata": {},
          "output_type": "execute_result"
        }
      ],
      "source": [
        "#Replace NaN with an empty string\n",
        "movies_sub['genre'] = movies_sub['genre'].fillna('')\n",
        "\n",
        "#Construct the required TF-IDF matrix by fitting and transforming the data\n",
        "tfidf_matrix_movies = tfidf.fit_transform(movies_sub['genre'])\n",
        "\n",
        "#Output the shape of tfidf_matrix\n",
        "tfidf_matrix_movies.shape"
      ]
    },
    {
      "cell_type": "code",
      "execution_count": 60,
      "metadata": {},
      "outputs": [
        {
          "data": {
            "text/plain": [
              "(126, 12)"
            ]
          },
          "execution_count": 60,
          "metadata": {},
          "output_type": "execute_result"
        }
      ],
      "source": [
        "#Replace NaN with an empty string\n",
        "series_sub['genre'] = series_sub['genre'].fillna('')\n",
        "\n",
        "#Construct the required TF-IDF matrix by fitting and transforming the data\n",
        "tfidf_matrix_series = tfidf.fit_transform(series_sub['genre'])\n",
        "\n",
        "#Output the shape of tfidf_matrix\n",
        "tfidf_matrix_series.shape"
      ]
    },
    {
      "attachments": {
        "image.png": {
          "image/png": "[encoded data removed]"
        }
      },
      "cell_type": "markdown",
      "metadata": {},
      "source": [
        "#### Cosine Similarity\n",
        "![image.png](attachment:image.png)\n",
        "###### Name - T-Shirt - Jeans - Choes\n",
        "###### Ahmed: White - Blue - Black\n",
        "###### Mohamed: White - Blue - Black\n",
        "###### Ziad : White - Blue - ??? (most likely black too)"
      ]
    },
    {
      "cell_type": "code",
      "execution_count": 61,
      "metadata": {},
      "outputs": [],
      "source": [
        "# Import linear_kernel\n",
        "from sklearn.metrics.pairwise import linear_kernel"
      ]
    },
    {
      "cell_type": "code",
      "execution_count": 62,
      "metadata": {},
      "outputs": [],
      "source": [
        "# Compute the cosine similarity matrix - Movies\n",
        "\n",
        "cosine_sim_movies = linear_kernel(tfidf_matrix_movies, tfidf_matrix_movies)"
      ]
    },
    {
      "cell_type": "code",
      "execution_count": 63,
      "metadata": {},
      "outputs": [],
      "source": [
        "# Compute the cosine similarity matrix\n",
        "cosine_sim_series = linear_kernel(tfidf_matrix_series, tfidf_matrix_series)"
      ]
    },
    {
      "cell_type": "markdown",
      "metadata": {},
      "source": [
        "### Continue: title similarity!"
      ]
    },
    {
      "cell_type": "code",
      "execution_count": 74,
      "metadata": {},
      "outputs": [],
      "source": [
        "#Construct a reverse map of indices and movie titles\n",
        "#indices_p = pd.Series(data.index, index=data['program name']).drop_duplicates()\n",
        "indices_m = pd.Series(movies_sub.index, index=movies_sub['movie name']).drop_duplicates()\n",
        "indices_s = pd.Series(series_sub.index, index=series_sub['series name']).drop_duplicates()"
      ]
    },
    {
      "cell_type": "markdown",
      "metadata": {},
      "source": [
        "- Get the index of the movie given its title.\n",
        "- Get the list of cosine similarity scores for that - - - - - particular movie with all movies. Convert it into a list of tuples where the first element is its position and the second is the similarity score.\n",
        "- Sort the aforementioned list of tuples based on the similarity scores; that is, the second element.\n",
        "- Get the top 10 elements of this list. Ignore the first element as it refers to self (the movie most similar to a particular movie is the movie itself).\n",
        "- Return the titles corresponding to the indices of the top elements."
      ]
    },
    {
      "cell_type": "code",
      "execution_count": 78,
      "metadata": {},
      "outputs": [],
      "source": [
        "# Function: movie name(input) --> similar movies(output)\n",
        "def get_recommnedation_movies(title, cosine_sim=cosine_sim_movies):\n",
        "    # get the index of the program that matches\n",
        "    idx = indices_m[title]\n",
        "\n",
        "    # get pairwise similarity score of all movies that matches the particular program\n",
        "    sim_scores = list(enumerate(cosine_sim[idx]))\n",
        "\n",
        "    # similarity sorting\n",
        "    sim_scores = sorted(sim_scores, key=lambda x: x[1], reverse=True)\n",
        "    \n",
        "    # Get the scores of the 10 most similar movies\n",
        "    sim_scores = sim_scores[1:11]\n",
        "    \n",
        "    # get program indices\n",
        "    movie_indices = [i[0] for i in sim_scores]\n",
        "\n",
        "    # return top 10 similar\n",
        "    return movies_sub['movie name'].iloc[movie_indices]"
      ]
    },
    {
      "cell_type": "code",
      "execution_count": 80,
      "metadata": {},
      "outputs": [],
      "source": [
        "# Function: series title(input) --> similar serieses(output)\n",
        "def get_recommnedation_series(title, cosine_sim=cosine_sim_series):\n",
        "    # get the index of the program that matches\n",
        "    idx = indices_s[title]\n",
        "\n",
        "    # get pairwise similarity score of all movies that matches the particular program\n",
        "    sim_scores = list(enumerate(cosine_sim[idx]))\n",
        "\n",
        "    # similarity sorting\n",
        "    sim_scores = sorted(sim_scores, key=lambda x: x[1], reverse=True)\n",
        "\n",
        "    # Get the scores of the 10 most similar movies\n",
        "    sim_scores = sim_scores[1:11]\n",
        "\n",
        "    # get program indices\n",
        "    series_indices = [i[0] for i in sim_scores]\n",
        "\n",
        "    # return top 10 similar\n",
        "    return series_sub['series name'].iloc[series_indices]"
      ]
    },
    {
      "cell_type": "code",
      "execution_count": 82,
      "metadata": {},
      "outputs": [
        {
          "data": {
            "text/plain": [
              "210                                   Aladdin\n",
              "227                   Alvin and the Chipmunks\n",
              "228    Alvin and the Chipmunks: The Road Chip\n",
              "229    Alvin and the Chipmunks: The queakquel\n",
              "317                                 Anastasia\n",
              "320                              Angelo Rules\n",
              "333                        Animal Mechanicals\n",
              "337                                 Anomalisa\n",
              "340                                      Antz\n",
              "343                           Appleseed Alpha\n",
              "Name: movie name, dtype: object"
            ]
          },
          "execution_count": 82,
          "metadata": {},
          "output_type": "execute_result"
        }
      ],
      "source": [
        "get_recommnedation_movies('Moana')"
      ]
    },
    {
      "cell_type": "code",
      "execution_count": 83,
      "metadata": {},
      "outputs": [
        {
          "data": {
            "text/plain": [
              "9               Al Bayt Al Kabeer\n",
              "23            Ana Wa Baba Wa Mama\n",
              "32     Black-ish  (T)   Black-ish\n",
              "33          Blackish     Blackish\n",
              "34                     Blunt Talk\n",
              "37                     Bou Droosh\n",
              "42    Community  (T)    Community\n",
              "46                    Dalaa Banat\n",
              "57                   Ezai E-Sehha\n",
              "61           Friends      Friends\n",
              "Name: series name, dtype: object"
            ]
          },
          "execution_count": 83,
          "metadata": {},
          "output_type": "execute_result"
        }
      ],
      "source": [
        "get_recommnedation_series('Weeds')"
      ]
    },
    {
      "cell_type": "code",
      "execution_count": null,
      "metadata": {},
      "outputs": [],
      "source": []
    }
  ],
  "metadata": {
    "colab": {
      "provenance": []
    },
    "kernelspec": {
      "display_name": "Python 3",
      "name": "python3"
    },
    "language_info": {
      "codemirror_mode": {
        "name": "ipython",
        "version": 3
      },
      "file_extension": ".py",
      "mimetype": "text/x-python",
      "name": "python",
      "nbconvert_exporter": "python",
      "pygments_lexer": "ipython3",
      "version": "3.11.2"
    }
  },
  "nbformat": 4,
  "nbformat_minor": 0
}
